{
 "cells": [
  {
   "cell_type": "markdown",
   "metadata": {},
   "source": [
    "# Python Handbook"
   ]
  },
  {
   "cell_type": "markdown",
   "metadata": {},
   "source": [
    "## Python Basics"
   ]
  },
  {
   "cell_type": "markdown",
   "metadata": {},
   "source": [
    "### 1 General"
   ]
  },
  {
   "cell_type": "markdown",
   "metadata": {},
   "source": [
    "Python is case sensitive. There is a difference between `print('Hello World!')` and `Print('Hello World!')`. The former is correct, while the latter will lead to an error.\n",
    "Additionally the indentation is very important. Conditions, loops, and functions are guided by the indentation. So it can only be used in the right places."
   ]
  },
  {
   "cell_type": "markdown",
   "metadata": {},
   "source": [
    "### 1.1 Statements"
   ]
  },
  {
   "cell_type": "markdown",
   "metadata": {},
   "source": [
    "A statement is an instruction that a Python interpreter can execute. So, in simple words, we can say anything written in Python is a statement.<br>\n",
    "Unlike other programming languages who use semicolons (;) as separation for statements in a Python script each separate line is a separate statement.<br>\n",
    "A Python script usually contains a sequence of statements. If there is more than one statement, the result appears only one time when all statements execute."
   ]
  },
  {
   "cell_type": "markdown",
   "metadata": {},
   "source": [
    "There are mainly four types of statements in Python\n",
    "1. Print statements\n",
    "2. Assignment statements\n",
    "3. Conditional statements\n",
    "4. Looping statements."
   ]
  },
  {
   "cell_type": "markdown",
   "metadata": {},
   "source": [
    "#### 1. Print statements"
   ]
  },
  {
   "cell_type": "markdown",
   "metadata": {},
   "source": [
    "The result of a print statement is a value."
   ]
  },
  {
   "cell_type": "code",
   "execution_count": 3,
   "metadata": {},
   "outputs": [
    {
     "name": "stdout",
     "output_type": "stream",
     "text": [
      "hello world!\n"
     ]
    }
   ],
   "source": [
    "print('hello world!')"
   ]
  },
  {
   "cell_type": "markdown",
   "metadata": {},
   "source": [
    "#### 2. Assignment statements"
   ]
  },
  {
   "cell_type": "markdown",
   "metadata": {},
   "source": [
    "Assignment statements don’t produce a result it just assigns a value to the operand on its left side."
   ]
  },
  {
   "cell_type": "code",
   "execution_count": 8,
   "metadata": {},
   "outputs": [],
   "source": [
    "x = 5"
   ]
  },
  {
   "cell_type": "markdown",
   "metadata": {},
   "source": [
    "Setting variables in Python has some limitations:\n",
    "* Variable names can only contain letters, numbers and underscores.<br>\n",
    "<font color='red'>Special characters like $,\",',?,/,-,@,#,! and spaces are not allowed.</font>\n",
    "* Variable names cannot start with a number.<br>\n",
    "<font color='red'>Var2 is a valid variable name, while 2var is not.</font>\n",
    "* Variable names are case sensitive<br>\n",
    "<font color='red'>\"print\" ≠ \"Print\"</font>\n",
    "* Reserved words cannot be used.<br>\n",
    "<font color='red'>e.g. \"print\" is an invalid variable name.</font>\n"
   ]
  },
  {
   "cell_type": "markdown",
   "metadata": {},
   "source": [
    "#### 3. Conditional statements"
   ]
  },
  {
   "cell_type": "markdown",
   "metadata": {},
   "source": [
    "Conditional statements are also known as decision-making statements. We need to use these conditional statements to execute the specific block of code if the given condition is true or false."
   ]
  },
  {
   "cell_type": "code",
   "execution_count": 9,
   "metadata": {},
   "outputs": [
    {
     "name": "stdout",
     "output_type": "stream",
     "text": [
      "x<10\n"
     ]
    }
   ],
   "source": [
    "if x<10:\n",
    "    print('x<10')\n",
    "else:\n",
    "    print('x>10')"
   ]
  },
  {
   "cell_type": "markdown",
   "metadata": {},
   "source": [
    "#### 4. Loops"
   ]
  },
  {
   "cell_type": "markdown",
   "metadata": {},
   "source": [
    "A loop is a sequence of instructions that is continually repeated until a certain condition is reached."
   ]
  },
  {
   "cell_type": "code",
   "execution_count": 12,
   "metadata": {},
   "outputs": [
    {
     "name": "stdout",
     "output_type": "stream",
     "text": [
      "Hello there\n",
      "Hello there\n",
      "Hello there\n"
     ]
    }
   ],
   "source": [
    "count = 0\n",
    "while (count < 3):    \n",
    "    count = count + 1\n",
    "    print(\"Hello there\")"
   ]
  },
  {
   "cell_type": "markdown",
   "metadata": {},
   "source": [
    "#### Multi-line statements"
   ]
  },
  {
   "cell_type": "markdown",
   "metadata": {},
   "source": [
    "Python statement ends with the token NEWLINE character. But we can extend the statement over multiple lines using line continuation character (\\). This is known as an explicit continuation."
   ]
  },
  {
   "cell_type": "code",
   "execution_count": 11,
   "metadata": {},
   "outputs": [
    {
     "name": "stdout",
     "output_type": "stream",
     "text": [
      "280\n"
     ]
    }
   ],
   "source": [
    "addition = 10 + 20 + \\\n",
    "           30 + 40 + \\\n",
    "           50 + 60 + 70\n",
    "print(addition)"
   ]
  },
  {
   "cell_type": "markdown",
   "metadata": {},
   "source": [
    "We can use parentheses () to write a multi-line statement. We can add a line continuation statement inside it. Whatever we add inside a parentheses () will treat as a single statement even it is placed on multiple lines."
   ]
  },
  {
   "cell_type": "code",
   "execution_count": 14,
   "metadata": {},
   "outputs": [
    {
     "name": "stdout",
     "output_type": "stream",
     "text": [
      "280\n"
     ]
    }
   ],
   "source": [
    "addition = (10 + 20 +\n",
    "            30 + 40 +\n",
    "            50 + 60 + 70)\n",
    "print(addition)         "
   ]
  }
 ],
 "metadata": {
  "interpreter": {
   "hash": "adfdec022a24850a5b32b623169cc958d24207772bd09088005c672f8c5d9be0"
  },
  "kernelspec": {
   "display_name": "Python 3.9.12 64-bit ('Anaconda3')",
   "language": "python",
   "name": "python3"
  },
  "language_info": {
   "codemirror_mode": {
    "name": "ipython",
    "version": 3
   },
   "file_extension": ".py",
   "mimetype": "text/x-python",
   "name": "python",
   "nbconvert_exporter": "python",
   "pygments_lexer": "ipython3",
   "version": "3.9.12"
  }
 },
 "nbformat": 4,
 "nbformat_minor": 2
}
